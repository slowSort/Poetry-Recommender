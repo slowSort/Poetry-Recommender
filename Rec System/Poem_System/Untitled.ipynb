{
 "cells": [
  {
   "cell_type": "code",
   "execution_count": 15,
   "metadata": {},
   "outputs": [],
   "source": [
    "# Import Pandas\n",
    "import pandas as pd\n",
    "# Import Numpy\n",
    "import numpy as np\n",
    "# Import Itertools\n",
    "import itertools\n",
    "# Import TfIdfVectorizer from scikit-learn\n",
    "from sklearn.feature_extraction.text import TfidfVectorizer, CountVectorizer\n",
    "# Import linear_kernel\n",
    "from sklearn.metrics.pairwise import linear_kernel, cosine_similarity\n",
    "\n",
    "\"\"\"\n",
    "Since you have used the TF-IDF vectorizer, calculating the dot product will\n",
    "directly give you the cosine similarity score. Therefore, you will use\n",
    "sklearn's linear_kernel() instead of cosine_similarities() since it is faster.\n",
    "\"\"\"\n",
    "\n",
    "import mysql.connector\n",
    "\n",
    "np.set_printoptions(threshold=np.inf)\n",
    "\n",
    "mydb = mysql.connector.connect(\n",
    "  host=\"localhost\",\n",
    "  user=\"root\",\n",
    "  password=\"cKeecl00\",\n",
    "  database=\"sys\"\n",
    ")\n",
    "\n",
    "# Load Movies Metadata as a DataFrame\n",
    "poems = pd.read_sql(\"SELECT * FROM poems\", mydb)\n",
    "poems = poems[['poem_id', 'title', 'author',\n",
    "               'lines', 'linecount', 'wordcount']]\n",
    "\n",
    "poems['lines'] = poems['lines'].map(lambda x: ''.join(x))\n",
    "poems['lines'].head()\n",
    "\n",
    "# Remove all english stop words such as 'the', 'a'\n",
    "tfidf = TfidfVectorizer(stop_words='english')\n",
    "# flatten poem lines into a list of strings\n",
    "\n",
    "# Replace NaN with an empty string\n",
    "poems['lines'] = poems['lines'].fillna('')\n",
    "# Construct the required TF-IDF matrix by fitting and transforming the data\n",
    "\n",
    "tfidf_matrix = tfidf.fit_transform(poems['lines'])\n",
    "\n",
    "# Compute the cosine similarity matrix\n",
    "# Linear kernel used as it's faster\n",
    "cosine_sim = linear_kernel(tfidf_matrix, tfidf_matrix)\n",
    "# Construct a reverse map of indices and movie titles\n",
    "indices = pd.Series(poems.index, index=poems['poem_id']).drop_duplicates()\n",
    "\n",
    "\n",
    "# Function that takes in movie title as input and outputs most similar movies\n",
    "def get_recommendations(poem_id, cosine_sim=cosine_sim):\n",
    "    # Get the index of the movie that matches the title\n",
    "    idx = indices[poem_id]\n",
    "    # Get the pairwsie similarity scores of all movies with that moviee\n",
    "    sim_scores = list(enumerate(cosine_sim[idx]))\n",
    "    # Sort the movies based on the similarity scores\n",
    "    sim_scores = sorted(sim_scores, key=lambda x: x[1], reverse=True)\n",
    "    # Get the scores of the 10 most similar movies\n",
    "    sim_scores = sim_scores[1:11]\n",
    "    # Get the movie indices\n",
    "    movie_indices = [i[0] for i in sim_scores]\n",
    "    # Return the top 10 most similar movies\n",
    "    return poems['title'].iloc[movie_indices]\n",
    "\n",
    "\n",
    "# print(get_recommendations(102))\n",
    "\n",
    "\n",
    "# Function to convert all strings to lower case and strip names of spaces\n",
    "def clean_author(x):\n",
    "    return str.lower(x.replace(\" \", \"\"))\n",
    "\n",
    "\n",
    "poems['author'] = poems['author'].apply(clean_author)\n",
    "\n",
    "count = CountVectorizer(stop_words='english')\n",
    "count_matrix = count.fit_transform(poems['author'])\n",
    "cosine_sim2 = cosine_similarity(count_matrix, count_matrix)\n",
    "\n",
    "poems = poems.reset_index()\n",
    "indices = pd.Series(poems.index, index=poems['poem_id']).drop_duplicates()\n",
    "\n",
    "# Downweight author significance in vectorizer\n",
    "cosine_sim2 = np.multiply(cosine_sim2, 0.1)\n",
    "# print(cosine_sim2)\n",
    "# Average the two cosine similarities\n",
    "final_sim = np.mean(np.array([cosine_sim, cosine_sim2]), axis=0)"
   ]
  },
  {
   "cell_type": "code",
   "execution_count": 46,
   "metadata": {},
   "outputs": [
    {
     "name": "stdout",
     "output_type": "stream",
     "text": [
      "[0.         0.         1.         0.11276935 0.         0.11592029\n",
      " 0.         0.07289386 0.         0.         0.         0.\n",
      " 0.         0.         0.         0.         0.         0.\n",
      " 0.         0.         0.         0.         0.         0.\n",
      " 0.         0.         0.         0.06597254 0.         0.\n",
      " 0.06090284 0.         0.         0.         0.         0.\n",
      " 0.         0.         0.         0.         0.0552676  0.07639109\n",
      " 0.         0.         0.         0.         0.         0.\n",
      " 0.         0.         0.         0.         0.         0.\n",
      " 0.08635667 0.07026528 0.         0.         0.         0.\n",
      " 0.         0.         0.         0.         0.         0.\n",
      " 0.         0.         0.         0.         0.06423297 0.\n",
      " 0.         0.         0.         0.         0.05150736 0.\n",
      " 0.         0.         0.         0.         0.         0.\n",
      " 0.05334636 0.         0.03916124 0.         0.         0.\n",
      " 0.         0.         0.        ]\n",
      "<class 'numpy.ndarray'>\n"
     ]
    }
   ],
   "source": [
    "print(cosine_sim[2])"
   ]
  },
  {
   "cell_type": "code",
   "execution_count": 7,
   "metadata": {},
   "outputs": [
    {
     "name": "stdout",
     "output_type": "stream",
     "text": [
      "[0.1 0.  0.  0.1 0.  0.1 0.1 0.1 0.1 0.1 0.1 0.1 0.1 0.1 0.  0.  0.  0.\n",
      " 0.  0.  0.  0.1 0.1 0.1 0.1 0.  0.  0.  0.  0.  0.  0.  0.  0.  0.  0.\n",
      " 0.  0.  0.  0.  0.  0.  0.1 0.1 0.1 0.1 0.1 0.1 0.1 0.1 0.1 0.1 0.1 0.1\n",
      " 0.1 0.1 0.  0.1 0.1 0.1 0.1 0.1 0.1 0.1 0.1 0.1 0.1 0.1 0.1 0.  0.  0.\n",
      " 0.  0.1 0.1 0.  0.  0.  0.  0.  0.1 0.1 0.1 0.1 0.1 0.1 0.1 0.1 0.1 0.1\n",
      " 0.1 0.1 0. ]\n"
     ]
    }
   ],
   "source": [
    "print(cosine_sim2[0])"
   ]
  },
  {
   "cell_type": "code",
   "execution_count": 4,
   "metadata": {},
   "outputs": [
    {
     "name": "stdout",
     "output_type": "stream",
     "text": [
      "[0.55       0.         0.         0.05       0.         0.05\n",
      " 0.05       0.05       0.05       0.05       0.05       0.05\n",
      " 0.05       0.05       0.         0.         0.         0.\n",
      " 0.         0.         0.         0.05       0.05       0.05\n",
      " 0.05       0.         0.         0.         0.         0.\n",
      " 0.         0.         0.         0.         0.         0.\n",
      " 0.         0.         0.         0.         0.         0.\n",
      " 0.05       0.05       0.05       0.05       0.05       0.05\n",
      " 0.19128956 0.05       0.05       0.05       0.11680404 0.05\n",
      " 0.05       0.05       0.         0.05       0.05       0.05\n",
      " 0.05       0.05       0.05       0.05       0.05       0.05\n",
      " 0.05       0.05       0.05       0.         0.         0.\n",
      " 0.         0.05       0.05       0.         0.         0.\n",
      " 0.         0.         0.05       0.05       0.05       0.05\n",
      " 0.05       0.05       0.05       0.10763289 0.05       0.05\n",
      " 0.05       0.05       0.16297788]\n"
     ]
    }
   ],
   "source": [
    "print(final_sim[0])"
   ]
  },
  {
   "cell_type": "code",
   "execution_count": 8,
   "metadata": {},
   "outputs": [
    {
     "name": "stdout",
     "output_type": "stream",
     "text": [
      "92                                TEST POEM\n",
      "48                           Fragment: Rain\n",
      "52     Fragment: 'The Rude Wind Is Singing'\n",
      "87                       Fragment: To Italy\n",
      "1                                     Elegy\n",
      "2                           From the French\n",
      "3                  Fragment: A Serpent-Face\n",
      "4     Quem Deus Vult Perdere Prius Dementat\n",
      "5                   Fragment: Death in Life\n",
      "6                  Fragment: May the Limner\n",
      "Name: title, dtype: object\n"
     ]
    }
   ],
   "source": [
    "print(get_recommendations(102, cosine_sim))"
   ]
  },
  {
   "cell_type": "code",
   "execution_count": 9,
   "metadata": {},
   "outputs": [
    {
     "name": "stdout",
     "output_type": "stream",
     "text": [
      "3               Fragment: A Serpent-Face\n",
      "5                Fragment: Death in Life\n",
      "6               Fragment: May the Limner\n",
      "7                         Fragment: Home\n",
      "8             Another Fragment: To Music\n",
      "9                     Fragment: To Byron\n",
      "10             Fragment: Rome and Nature\n",
      "11    Fragment: The Deserts of Dim Sleep\n",
      "12     Fragment: Life Rounded With Sleep\n",
      "13       Fragment: Zephyrus the Awakener\n",
      "Name: title, dtype: object\n"
     ]
    }
   ],
   "source": [
    "print(get_recommendations(102, cosine_sim2))"
   ]
  },
  {
   "cell_type": "code",
   "execution_count": 10,
   "metadata": {},
   "outputs": [
    {
     "name": "stdout",
     "output_type": "stream",
     "text": [
      "48                          Fragment: Rain\n",
      "92                               TEST POEM\n",
      "52    Fragment: 'The Rude Wind Is Singing'\n",
      "87                      Fragment: To Italy\n",
      "3                 Fragment: A Serpent-Face\n",
      "5                  Fragment: Death in Life\n",
      "6                 Fragment: May the Limner\n",
      "7                           Fragment: Home\n",
      "8               Another Fragment: To Music\n",
      "9                       Fragment: To Byron\n",
      "Name: title, dtype: object\n"
     ]
    }
   ],
   "source": [
    "print(get_recommendations(102, final_sim))"
   ]
  },
  {
   "cell_type": "code",
   "execution_count": 53,
   "metadata": {},
   "outputs": [
    {
     "name": "stdout",
     "output_type": "stream",
     "text": [
      "[0.5        1.         1.         1.         1.         1.\n",
      " 1.         0.5        0.5        0.5        0.5        0.5\n",
      " 0.5        0.5        0.33333333 0.33333333 0.33333333 0.33333333\n",
      " 0.33333333 0.33333333 0.33333333 0.33333333 0.33333333 0.33333333\n",
      " 0.33333333 0.33333333 0.33333333 0.33333333 0.33333333 0.33333333\n",
      " 0.33333333 0.33333333 0.33333333 0.33333333 0.33333333 0.33333333\n",
      " 0.33333333 0.33333333 0.33333333 0.33333333 0.33333333 0.33333333\n",
      " 0.33333333 0.33333333 0.33333333 0.33333333 0.33333333 0.33333333\n",
      " 0.33333333 0.33333333 0.33333333 0.33333333 0.33333333 0.33333333\n",
      " 0.33333333 0.33333333 0.25       0.25       0.25       0.25\n",
      " 0.25       0.25       0.25       0.25       0.25       0.25\n",
      " 0.25       0.25       0.25       0.2        0.2        0.2\n",
      " 0.2        0.2        0.2        0.2        0.2        0.2\n",
      " 0.2        0.2        0.2        0.2        0.2        0.2\n",
      " 0.2        0.2        0.2        0.2        0.2        0.2\n",
      " 0.2        0.2        0.5       ]\n"
     ]
    }
   ],
   "source": [
    "simMatrix = []\n",
    "for x in poems['linecount']:\n",
    "    row = []\n",
    "    for y in poems['linecount']:\n",
    "        # this math is quite important\n",
    "        # find difference between two numbers\n",
    "        # add 1 to prevent / 0 error\n",
    "        # divide 1 by new number to get scaled similarity\n",
    "        row.append(1/((max(x, y)-min(x, y))+1))\n",
    "    simMatrix.append(row)\n",
    "lines_sim = np.array(simMatrix)\n",
    "print(lines_sim[2])"
   ]
  },
  {
   "cell_type": "code",
   "execution_count": 55,
   "metadata": {},
   "outputs": [
    {
     "name": "stdout",
     "output_type": "stream",
     "text": [
      "2                           From the French\n",
      "3                  Fragment: A Serpent-Face\n",
      "4     Quem Deus Vult Perdere Prius Dementat\n",
      "5                   Fragment: Death in Life\n",
      "6                  Fragment: May the Limner\n",
      "0                            Fragment: Rain\n",
      "7                            Fragment: Home\n",
      "8                Another Fragment: To Music\n",
      "9                        Fragment: To Byron\n",
      "10                Fragment: Rome and Nature\n",
      "Name: title, dtype: object\n"
     ]
    }
   ],
   "source": [
    "print(get_recommendations(107, lines_sim))"
   ]
  },
  {
   "cell_type": "code",
   "execution_count": null,
   "metadata": {},
   "outputs": [],
   "source": []
  }
 ],
 "metadata": {
  "kernelspec": {
   "display_name": "Python 3",
   "language": "python",
   "name": "python3"
  },
  "language_info": {
   "codemirror_mode": {
    "name": "ipython",
    "version": 3
   },
   "file_extension": ".py",
   "mimetype": "text/x-python",
   "name": "python",
   "nbconvert_exporter": "python",
   "pygments_lexer": "ipython3",
   "version": "3.5.2"
  }
 },
 "nbformat": 4,
 "nbformat_minor": 2
}
